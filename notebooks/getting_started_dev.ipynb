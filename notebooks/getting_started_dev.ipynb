{
 "cells": [
  {
   "cell_type": "code",
   "execution_count": 1,
   "id": "5e04c591",
   "metadata": {
    "ExecuteTime": {
     "end_time": "2025-03-31T11:56:17.511503Z",
     "start_time": "2025-03-31T11:56:17.493536Z"
    }
   },
   "outputs": [],
   "source": [
    "## Use this instead if you want to use the codes inside the src folder.\n",
    "%load_ext autoreload\n",
    "%autoreload 2\n",
    "from src.color_code_stim.color_code import ColorCode"
   ]
  },
  {
   "cell_type": "markdown",
   "id": "f5db9f8c",
   "metadata": {},
   "source": [
    "# ColorCode object and its attributes"
   ]
  },
  {
   "cell_type": "markdown",
   "id": "56271aa1",
   "metadata": {},
   "source": [
    "## Initialization of a ColorCode object\n",
    "\n",
    "Currently support only the logical idling gate of a triangular color code, which is preceded by a logical-$Z$ initialization (to its $+1$ eigenstate) and followed by a logical-$Z$ measurement.\n",
    "\n",
    "ex) 5-round idling gate of distance-5 color code under circuit-level noise of strength 1e-3."
   ]
  },
  {
   "cell_type": "code",
   "execution_count": 16,
   "id": "f213db51",
   "metadata": {
    "ExecuteTime": {
     "end_time": "2024-03-22T10:24:32.758208Z",
     "start_time": "2024-03-22T10:24:32.658362Z"
    }
   },
   "outputs": [],
   "source": [
    "colorcode = ColorCode(\n",
    "    d=5,\n",
    "    rounds=5,\n",
    "    circuit_type=\"tri\",  # {\"tri\", \"rec\", \"rec_stability\", \"growing\", \"cult+growing\"}\n",
    "    cnot_schedule=\"tri_optimal\",  # Default CNOT schedule optimized in our paper.\n",
    "    p_circuit=1e-3,\n",
    ")"
   ]
  },
  {
   "cell_type": "markdown",
   "id": "5ebfd0f6",
   "metadata": {},
   "source": [
    "## Tanner graph of the code"
   ]
  },
  {
   "cell_type": "code",
   "execution_count": 6,
   "id": "452803a5",
   "metadata": {
    "ExecuteTime": {
     "end_time": "2024-03-22T10:24:32.772924Z",
     "start_time": "2024-03-22T10:24:32.759585Z"
    },
    "scrolled": true
   },
   "outputs": [
    {
     "name": "stdout",
     "output_type": "stream",
     "text": [
      "Total number of vertices: 37\n",
      "Total number of edges: 111\n",
      "\n",
      "Some examples of vertices:\n",
      "igraph.Vertex(<igraph.Graph object at 0x17372c450>, 0, {'x': 0, 'y': 0, 'qid': 0, 'pauli': None, 'color': None, 'obs': True, 'boundary': 'rg', 'name': '0-0'})\n",
      "igraph.Vertex(<igraph.Graph object at 0x17372c450>, 1, {'x': 2, 'y': 0, 'qid': 1, 'pauli': None, 'color': None, 'obs': True, 'boundary': 'r', 'name': '2-0'})\n",
      "igraph.Vertex(<igraph.Graph object at 0x17372c450>, 2, {'x': 4, 'y': 0, 'qid': 2, 'pauli': 'Z', 'color': 'g', 'obs': False, 'boundary': 'r', 'name': '4-0-Z'})\n",
      "igraph.Vertex(<igraph.Graph object at 0x17372c450>, 3, {'x': 4, 'y': 0, 'qid': 3, 'pauli': 'X', 'color': 'g', 'obs': False, 'boundary': 'r', 'name': '4-0-X'})\n",
      "igraph.Vertex(<igraph.Graph object at 0x17372c450>, 4, {'x': 6, 'y': 0, 'qid': 4, 'pauli': None, 'color': None, 'obs': True, 'boundary': 'r', 'name': '6-0'})\n",
      "igraph.Vertex(<igraph.Graph object at 0x17372c450>, 5, {'x': 8, 'y': 0, 'qid': 5, 'pauli': None, 'color': None, 'obs': True, 'boundary': 'r', 'name': '8-0'})\n",
      "igraph.Vertex(<igraph.Graph object at 0x17372c450>, 6, {'x': 10, 'y': 0, 'qid': 6, 'pauli': 'Z', 'color': 'g', 'obs': False, 'boundary': 'r', 'name': '10-0-Z'})\n",
      "igraph.Vertex(<igraph.Graph object at 0x17372c450>, 7, {'x': 10, 'y': 0, 'qid': 7, 'pauli': 'X', 'color': 'g', 'obs': False, 'boundary': 'r', 'name': '10-0-X'})\n",
      "igraph.Vertex(<igraph.Graph object at 0x17372c450>, 8, {'x': 12, 'y': 0, 'qid': 8, 'pauli': None, 'color': None, 'obs': True, 'boundary': 'rb', 'name': '12-0'})\n",
      "igraph.Vertex(<igraph.Graph object at 0x17372c450>, 9, {'x': 1, 'y': 1, 'qid': 9, 'pauli': 'Z', 'color': 'b', 'obs': False, 'boundary': 'g', 'name': '1-1-Z'})\n"
     ]
    }
   ],
   "source": [
    "graph = colorcode.tanner_graph  # igraph.Graph object\n",
    "print(\"Total number of vertices:\", len(graph.vs))\n",
    "print(\"Total number of edges:\", len(graph.es))\n",
    "print()\n",
    "print(\"Some examples of vertices:\")\n",
    "for v in graph.vs[:10]:\n",
    "    print(v)"
   ]
  },
  {
   "cell_type": "markdown",
   "id": "185d431a",
   "metadata": {},
   "source": [
    "## Circuit"
   ]
  },
  {
   "cell_type": "code",
   "execution_count": 7,
   "id": "e1d6e477",
   "metadata": {
    "ExecuteTime": {
     "end_time": "2024-03-22T10:24:33.070539Z",
     "start_time": "2024-03-22T10:24:33.056500Z"
    }
   },
   "outputs": [],
   "source": [
    "circuit = colorcode.circuit  # stim.Circuit object"
   ]
  },
  {
   "cell_type": "markdown",
   "id": "a477a36d",
   "metadata": {},
   "source": [
    "## Detectors\n",
    "\n",
    "Detectors have their own detector IDs.\n",
    "\n",
    "A detector is specified by the round (integer) it belongs to and the ancillary qubit (igraph.Vertex) involved in it."
   ]
  },
  {
   "cell_type": "code",
   "execution_count": 8,
   "id": "7658abd7",
   "metadata": {
    "ExecuteTime": {
     "end_time": "2024-03-22T10:32:08.229925Z",
     "start_time": "2024-03-22T10:32:08.166093Z"
    }
   },
   "outputs": [
    {
     "name": "stdout",
     "output_type": "stream",
     "text": [
      "Number of detectors: 90\n",
      "Some examples of detectors:\n",
      "id = 0: round 0, ancillary qubit igraph.Vertex(<igraph.Graph object at 0x17372c450>, 2, {'x': 4, 'y': 0, 'qid': 2, 'pauli': 'Z', 'color': 'g', 'obs': False, 'boundary': 'r', 'name': '4-0-Z'})\n",
      "id = 10: round 1, ancillary qubit igraph.Vertex(<igraph.Graph object at 0x17372c450>, 6, {'x': 10, 'y': 0, 'qid': 6, 'pauli': 'Z', 'color': 'g', 'obs': False, 'boundary': 'r', 'name': '10-0-Z'})\n",
      "id = 20: round 1, ancillary qubit igraph.Vertex(<igraph.Graph object at 0x17372c450>, 10, {'x': 1, 'y': 1, 'qid': 10, 'pauli': 'X', 'color': 'b', 'obs': False, 'boundary': 'g', 'name': '1-1-X'})\n",
      "id = 30: round 2, ancillary qubit igraph.Vertex(<igraph.Graph object at 0x17372c450>, 13, {'x': 7, 'y': 1, 'qid': 13, 'pauli': 'Z', 'color': 'b', 'obs': False, 'boundary': None, 'name': '7-1-Z'})\n",
      "id = 40: round 2, ancillary qubit igraph.Vertex(<igraph.Graph object at 0x17372c450>, 19, {'x': 4, 'y': 2, 'qid': 19, 'pauli': 'X', 'color': 'r', 'obs': False, 'boundary': None, 'name': '4-2-X'})\n",
      "id = 50: round 3, ancillary qubit igraph.Vertex(<igraph.Graph object at 0x17372c450>, 22, {'x': 10, 'y': 2, 'qid': 22, 'pauli': 'Z', 'color': 'r', 'obs': False, 'boundary': 'b', 'name': '10-2-Z'})\n",
      "id = 60: round 3, ancillary qubit igraph.Vertex(<igraph.Graph object at 0x17372c450>, 27, {'x': 7, 'y': 3, 'qid': 27, 'pauli': 'X', 'color': 'g', 'obs': False, 'boundary': None, 'name': '7-3-X'})\n",
      "id = 70: round 4, ancillary qubit igraph.Vertex(<igraph.Graph object at 0x17372c450>, 29, {'x': 4, 'y': 4, 'qid': 29, 'pauli': 'Z', 'color': 'b', 'obs': False, 'boundary': 'g', 'name': '4-4-Z'})\n",
      "id = 80: round 4, ancillary qubit igraph.Vertex(<igraph.Graph object at 0x17372c450>, 35, {'x': 7, 'y': 5, 'qid': 35, 'pauli': 'X', 'color': 'r', 'obs': False, 'boundary': 'b', 'name': '7-5-X'})\n"
     ]
    }
   ],
   "source": [
    "num_detectors = colorcode.circuit.num_detectors\n",
    "print(\"Number of detectors:\", num_detectors)\n",
    "print(\"Some examples of detectors:\")\n",
    "for det_id in range(0, num_detectors, 10):\n",
    "    anc, rnd = colorcode.get_detector(det_id)\n",
    "    print(f\"id = {det_id}: round {rnd}, ancillary qubit {anc}\")"
   ]
  },
  {
   "cell_type": "markdown",
   "id": "f1fd4a5c",
   "metadata": {},
   "source": [
    "# Sampling & Decoding with the Concatenated MWPM decoder"
   ]
  },
  {
   "cell_type": "markdown",
   "id": "75386045",
   "metadata": {},
   "source": [
    "## Shortcut: sampling & decoding & stats at once"
   ]
  },
  {
   "cell_type": "code",
   "execution_count": 24,
   "id": "bb4c363f",
   "metadata": {},
   "outputs": [],
   "source": [
    "colorcode = ColorCode(\n",
    "    d=5,\n",
    "    rounds=5,\n",
    "    cnot_schedule=\"tri_optimal\",  # Default CNOT schedule optimized in our paper.\n",
    "    p_circuit=1e-3,\n",
    ")"
   ]
  },
  {
   "cell_type": "code",
   "execution_count": 25,
   "id": "c1789455",
   "metadata": {
    "ExecuteTime": {
     "end_time": "2024-03-22T10:24:37.368288Z",
     "start_time": "2024-03-22T10:24:33.086108Z"
    }
   },
   "outputs": [
    {
     "name": "stdout",
     "output_type": "stream",
     "text": [
      "Sampling...\n",
      "Decoding...\n",
      "First-round decoding:\n",
      "    > logical class 0, color r...\n",
      "    > logical class 0, color g...\n",
      "    > logical class 0, color b...\n",
      "Second-round decoding:\n",
      "    > logical class 0, color r...\n",
      "    > logical class 0, color g...\n",
      "    > logical class 0, color b...\n",
      "Postprocessing...\n"
     ]
    }
   ],
   "source": [
    "alpha = 0.01\n",
    "num_fails, info = colorcode.simulate(\n",
    "    10000,  # Number of shots\n",
    "    full_output=True,  # Whether to get additional information on decoding outputs\n",
    "    alpha=alpha,  # Significance level of the confidence interval of pfail\n",
    "    verbose=True,\n",
    "    seed=42,\n",
    ")"
   ]
  },
  {
   "cell_type": "code",
   "execution_count": 26,
   "id": "af57747d",
   "metadata": {},
   "outputs": [
    {
     "data": {
      "text/plain": [
       "{'best_colors': array([1, 0, 0, ..., 0, 0, 0]),\n",
       " 'weights': array([10.6798557 , 10.00874642,  0.        , ...,  0.        ,\n",
       "        24.42594793,  0.        ]),\n",
       " 'error_preds': array([[False, False, False, ..., False, False, False],\n",
       "        [False, False, False, ..., False, False, False],\n",
       "        [False, False, False, ..., False, False, False],\n",
       "        ...,\n",
       "        [False, False, False, ..., False, False, False],\n",
       "        [False, False, False, ..., False, False, False],\n",
       "        [False, False, False, ..., False, False, False]]),\n",
       " 'stats': (0.0038292041926628094, 0.0015559328739831032),\n",
       " 'fails': array([False, False, False, ..., False, False, False])}"
      ]
     },
     "execution_count": 26,
     "metadata": {},
     "output_type": "execute_result"
    }
   ],
   "source": [
    "info"
   ]
  },
  {
   "cell_type": "code",
   "execution_count": 27,
   "id": "bf9df596",
   "metadata": {
    "ExecuteTime": {
     "end_time": "2024-03-22T10:24:37.384519Z",
     "start_time": "2024-03-22T10:24:37.369198Z"
    }
   },
   "outputs": [
    {
     "name": "stdout",
     "output_type": "stream",
     "text": [
      "Number of failures = 35\n",
      "pfail = 3.83e-03 +- 1.56e-03 (99.0% confidence interval)\n"
     ]
    }
   ],
   "source": [
    "print(\"Number of failures =\", num_fails)\n",
    "pfail, delta_pfail = info[\"stats\"]\n",
    "print(\n",
    "    f\"pfail = {pfail:.2e} +- {delta_pfail:.2e} ({(1 - alpha) * 100}% confidence interval)\"\n",
    ")"
   ]
  },
  {
   "cell_type": "markdown",
   "id": "cf925ed1",
   "metadata": {},
   "source": [
    "## Step-by-step"
   ]
  },
  {
   "cell_type": "markdown",
   "id": "77cf2b54",
   "metadata": {},
   "source": [
    "### Sampling detector and observable outcomes"
   ]
  },
  {
   "cell_type": "code",
   "execution_count": 28,
   "id": "968258c1",
   "metadata": {
    "ExecuteTime": {
     "end_time": "2024-03-22T10:24:37.402671Z",
     "start_time": "2024-03-22T10:24:37.386866Z"
    }
   },
   "outputs": [],
   "source": [
    "det, obs = colorcode.sample(10000, seed=42)"
   ]
  },
  {
   "cell_type": "markdown",
   "id": "f44c2286",
   "metadata": {},
   "source": [
    "`det[i,j]` is `True` if and only if the detector with id `j` in the `i`th sample has an outcome of $-1$."
   ]
  },
  {
   "cell_type": "code",
   "execution_count": 29,
   "id": "7e7e7003",
   "metadata": {
    "ExecuteTime": {
     "end_time": "2024-03-22T10:24:37.417674Z",
     "start_time": "2024-03-22T10:24:37.403508Z"
    }
   },
   "outputs": [
    {
     "data": {
      "text/plain": [
       "array([[False, False, False, ..., False, False, False],\n",
       "       [False, False, False, ..., False, False, False],\n",
       "       [False, False, False, ..., False, False, False],\n",
       "       ...,\n",
       "       [False, False, False, ..., False, False, False],\n",
       "       [False, False, False, ..., False, False, False],\n",
       "       [False, False, False, ..., False, False, False]])"
      ]
     },
     "execution_count": 29,
     "metadata": {},
     "output_type": "execute_result"
    }
   ],
   "source": [
    "det"
   ]
  },
  {
   "cell_type": "markdown",
   "id": "394ce694",
   "metadata": {},
   "source": [
    "`obs[i]` is `True` if and only if the logical observable of the `i`th sample has an outcome of $-1$."
   ]
  },
  {
   "cell_type": "code",
   "execution_count": 30,
   "id": "b5cf655a",
   "metadata": {
    "ExecuteTime": {
     "end_time": "2024-03-22T10:24:37.431575Z",
     "start_time": "2024-03-22T10:24:37.418561Z"
    }
   },
   "outputs": [
    {
     "data": {
      "text/plain": [
       "array([False, False, False, ..., False, False, False])"
      ]
     },
     "execution_count": 30,
     "metadata": {},
     "output_type": "execute_result"
    }
   ],
   "source": [
    "obs"
   ]
  },
  {
   "cell_type": "markdown",
   "id": "c8429f82",
   "metadata": {},
   "source": [
    "### Decode using the concatenated MWPM decoder"
   ]
  },
  {
   "cell_type": "code",
   "execution_count": 31,
   "id": "72e47d22",
   "metadata": {
    "ExecuteTime": {
     "end_time": "2024-03-22T10:24:37.496385Z",
     "start_time": "2024-03-22T10:24:37.445864Z"
    }
   },
   "outputs": [
    {
     "name": "stdout",
     "output_type": "stream",
     "text": [
      "First-round decoding:\n",
      "    > logical class 0, color r...\n",
      "    > logical class 0, color g...\n",
      "    > logical class 0, color b...\n",
      "Second-round decoding:\n",
      "    > logical class 0, color r...\n",
      "    > logical class 0, color g...\n",
      "    > logical class 0, color b...\n"
     ]
    }
   ],
   "source": [
    "preds_obs, info = colorcode.decode(det, verbose=True, full_output=True)"
   ]
  },
  {
   "cell_type": "code",
   "execution_count": 32,
   "id": "58dc8830",
   "metadata": {
    "ExecuteTime": {
     "end_time": "2024-03-22T10:24:37.510353Z",
     "start_time": "2024-03-22T10:24:37.497267Z"
    }
   },
   "outputs": [
    {
     "data": {
      "text/plain": [
       "array([False, False, False, ..., False, False, False])"
      ]
     },
     "execution_count": 32,
     "metadata": {},
     "output_type": "execute_result"
    }
   ],
   "source": [
    "preds_obs  # Predictions of logical observables"
   ]
  },
  {
   "cell_type": "code",
   "execution_count": 33,
   "id": "b5f29254",
   "metadata": {},
   "outputs": [
    {
     "data": {
      "text/plain": [
       "['best_colors', 'weights', 'error_preds']"
      ]
     },
     "execution_count": 33,
     "metadata": {},
     "output_type": "execute_result"
    }
   ],
   "source": [
    "list(info.keys())"
   ]
  },
  {
   "cell_type": "code",
   "execution_count": 35,
   "id": "91a8c7cc",
   "metadata": {
    "ExecuteTime": {
     "end_time": "2024-03-22T10:24:37.524007Z",
     "start_time": "2024-03-22T10:24:37.511217Z"
    }
   },
   "outputs": [
    {
     "data": {
      "text/plain": [
       "array([1, 0, 0, ..., 0, 0, 0])"
      ]
     },
     "execution_count": 35,
     "metadata": {},
     "output_type": "execute_result"
    }
   ],
   "source": [
    "info[\"best_colors\"]  # Selected best colors (0: red, 1: green, 2: blue)"
   ]
  },
  {
   "cell_type": "code",
   "execution_count": 36,
   "id": "82bc052d",
   "metadata": {},
   "outputs": [
    {
     "data": {
      "text/plain": [
       "array([10.6798557 , 10.00874642,  0.        , ...,  0.        ,\n",
       "       24.42594793,  0.        ])"
      ]
     },
     "execution_count": 36,
     "metadata": {},
     "output_type": "execute_result"
    }
   ],
   "source": [
    "info[\"weights\"]  # Log-likelihood ratio weights of predictions"
   ]
  },
  {
   "cell_type": "markdown",
   "id": "9e7c4070",
   "metadata": {},
   "source": [
    "**Check failures**"
   ]
  },
  {
   "cell_type": "code",
   "execution_count": 38,
   "id": "d2aaf1ba",
   "metadata": {
    "ExecuteTime": {
     "end_time": "2024-03-22T10:24:37.538008Z",
     "start_time": "2024-03-22T10:24:37.524840Z"
    }
   },
   "outputs": [
    {
     "data": {
      "text/plain": [
       "array([False, False, False, ..., False, False, False])"
      ]
     },
     "execution_count": 38,
     "metadata": {},
     "output_type": "execute_result"
    }
   ],
   "source": [
    "import numpy as np\n",
    "\n",
    "fails = np.logical_xor(obs, preds_obs)\n",
    "fails"
   ]
  },
  {
   "cell_type": "code",
   "execution_count": 39,
   "id": "3ffa5716",
   "metadata": {
    "ExecuteTime": {
     "end_time": "2024-03-22T10:24:37.551525Z",
     "start_time": "2024-03-22T10:24:37.538769Z"
    }
   },
   "outputs": [
    {
     "name": "stdout",
     "output_type": "stream",
     "text": [
      "Number of failures: 35\n"
     ]
    }
   ],
   "source": [
    "print(\"Number of failures:\", np.sum(fails))"
   ]
  },
  {
   "cell_type": "markdown",
   "id": "b230b8ae",
   "metadata": {},
   "source": [
    "# Visualization"
   ]
  },
  {
   "cell_type": "markdown",
   "id": "1099bf52",
   "metadata": {},
   "source": [
    "## Tanner graph & Lattice"
   ]
  },
  {
   "cell_type": "code",
   "execution_count": 42,
   "id": "aa47b55f",
   "metadata": {},
   "outputs": [
    {
     "data": {
      "text/plain": [
       "<Axes: >"
      ]
     },
     "execution_count": 42,
     "metadata": {},
     "output_type": "execute_result"
    },
    {
     "data": {
      "image/png": "[encoded data removed]",
      "text/plain": [
       "<Figure size 600x500 with 1 Axes>"
      ]
     },
     "metadata": {},
     "output_type": "display_data"
    }
   ],
   "source": [
    "# qubits: black, checks: red/green/blue\n",
    "# For simplicity, only one of the two checks of each face is visible.\n",
    "\n",
    "colorcode = ColorCode(d=5, rounds=1, circuit_type=\"tri\", p_bitflip=1e-2)\n",
    "colorcode.draw_tanner_graph(show_axes=True)"
   ]
  },
  {
   "cell_type": "code",
   "execution_count": 43,
   "id": "0673ad56",
   "metadata": {},
   "outputs": [
    {
     "data": {
      "text/plain": [
       "<Axes: >"
      ]
     },
     "execution_count": 43,
     "metadata": {},
     "output_type": "execute_result"
    },
    {
     "data": {
      "image/png": "[encoded data removed]",
      "text/plain": [
       "<Figure size 600x500 with 1 Axes>"
      ]
     },
     "metadata": {},
     "output_type": "display_data"
    }
   ],
   "source": [
    "colorcode.draw_lattice(show_axes=True)"
   ]
  },
  {
   "cell_type": "markdown",
   "id": "ec5f50a9",
   "metadata": {},
   "source": [
    "## Errors on the lattice\n",
    "\n",
    "Only supported for `circuit_type=\"tri\"` and `circuit_type=\"rec\"` with `rounds=1` under bit-flip noise."
   ]
  },
  {
   "cell_type": "code",
   "execution_count": 7,
   "id": "d7e07289",
   "metadata": {},
   "outputs": [
    {
     "name": "stdout",
     "output_type": "stream",
     "text": [
      "First-round decoding:\n",
      "    > logical class 0, color r...\n",
      "    > logical class 0, color g...\n",
      "    > logical class 0, color b...\n",
      "Second-round decoding:\n",
      "    > logical class 0, color r...\n",
      "    > logical class 0, color g...\n",
      "    > logical class 0, color b...\n",
      "All predictions are valid\n",
      "[ 807 1540 2524 2773 7909 8227 8381]\n"
     ]
    }
   ],
   "source": [
    "import numpy as np\n",
    "\n",
    "colorcode = ColorCode(d=7, rounds=1, circuit_type=\"tri\", p_bitflip=2e-2)\n",
    "\n",
    "det, obs, err = colorcode.sample_with_errors(shots=10000, seed=42)\n",
    "pred, extra_outputs = colorcode.decode(\n",
    "    det, full_output=True, check_validity=True, verbose=True\n",
    ")\n",
    "fail = obs ^ pred\n",
    "failed_samples = np.nonzero(fail)[0]\n",
    "print(failed_samples)"
   ]
  },
  {
   "cell_type": "code",
   "execution_count": 8,
   "id": "22979022",
   "metadata": {},
   "outputs": [
    {
     "name": "stdout",
     "output_type": "stream",
     "text": [
      "Qubits with bit-flip errors: [12 17 29 31]\n",
      "Prediction (failed): [ 5 25 30]\n",
      "Faces with violated stabilizers: [ 2  5 10 12 13 14 16]\n"
     ]
    }
   ],
   "source": [
    "idx = failed_samples[1]\n",
    "err_qubits = colorcode.errors_to_qubits(err[idx])\n",
    "corr_qubits = colorcode.errors_to_qubits(extra_outputs[\"error_preds\"][idx])\n",
    "err_qubits = np.nonzero(err_qubits)[0]\n",
    "corr_qubits = np.nonzero(corr_qubits)[0]\n",
    "violated_faces = np.nonzero(det[idx])[0]\n",
    "print(\"Qubits with bit-flip errors:\", err_qubits)\n",
    "print(\"Prediction (failed):\", corr_qubits)\n",
    "print(\"Faces with violated stabilizers:\", violated_faces)"
   ]
  },
  {
   "cell_type": "code",
   "execution_count": 9,
   "id": "2bbc9c2e",
   "metadata": {},
   "outputs": [
    {
     "data": {
      "text/plain": [
       "<Axes: >"
      ]
     },
     "execution_count": 9,
     "metadata": {},
     "output_type": "execute_result"
    },
    {
     "data": {
      "image/png": "[encoded data removed]",
      "text/plain": [
       "<Figure size 600x500 with 1 Axes>"
      ]
     },
     "metadata": {},
     "output_type": "display_data"
    }
   ],
   "source": [
    "colorcode.draw_lattice(\n",
    "    show_axes=True,\n",
    "    highlight_qubits=err_qubits,  # orange triangles\n",
    "    highlight_qubits2=corr_qubits,  # purple rectangles\n",
    "    highlight_faces=violated_faces,  # dark faces\n",
    ")"
   ]
  }
 ],
 "metadata": {
  "kernelspec": {
   "display_name": "Python 3",
   "language": "python",
   "name": "python3"
  },
  "language_info": {
   "codemirror_mode": {
    "name": "ipython",
    "version": 3
   },
   "file_extension": ".py",
   "mimetype": "text/x-python",
   "name": "python",
   "nbconvert_exporter": "python",
   "pygments_lexer": "ipython3",
   "version": "3.11.3"
  },
  "varInspector": {
   "cols": {
    "lenName": 16,
    "lenType": 16,
    "lenVar": 40
   },
   "kernels_config": {
    "python": {
     "delete_cmd_postfix": "",
     "delete_cmd_prefix": "del ",
     "library": "var_list.py",
     "varRefreshCmd": "print(var_dic_list())"
    },
    "r": {
     "delete_cmd_postfix": ") ",
     "delete_cmd_prefix": "rm(",
     "library": "var_list.r",
     "varRefreshCmd": "cat(var_dic_list()) "
    }
   },
   "types_to_exclude": [
    "module",
    "function",
    "builtin_function_or_method",
    "instance",
    "_Feature"
   ],
   "window_display": false
  }
 },
 "nbformat": 4,
 "nbformat_minor": 5
}
