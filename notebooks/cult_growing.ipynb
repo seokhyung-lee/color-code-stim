{
 "cells": [
  {
   "cell_type": "code",
   "execution_count": 2,
   "metadata": {},
   "outputs": [],
   "source": [
    "# Autoreload extension for Jupyter notebooks\n",
    "%load_ext autoreload\n",
    "%autoreload 2\n",
    "\n",
    "# Manual reload\n",
    "from importlib import reload\n",
    "\n",
    "# Magic commands for inline plotting and high-res figures\n",
    "%matplotlib inline\n",
    "%config InlineBackend.figure_format ='retina'\n",
    "\n",
    "# Standard library imports\n",
    "import os\n",
    "import sys\n",
    "import pickle\n",
    "from pprint import pprint\n",
    "\n",
    "# Third-party library imports\n",
    "import numpy as np\n",
    "import pandas as pd\n",
    "import matplotlib.pyplot as plt\n",
    "import seaborn as sns\n",
    "from jupyterthemes import jtplot\n",
    "from tqdm import tqdm\n",
    "\n",
    "# Custom modules (if needed)\n",
    "# module_path = os.path.join(os.path.expanduser('~'), 'CustomModules')\n",
    "# sys.path.append(module_path)\n",
    "# from telegram_notify import notify\n",
    "# from plotting_tools import error_band_plot, get_ax_data_range\n",
    "\n",
    "# Add the parent directory to sys.path (if needed)\n",
    "from pathlib import Path\n",
    "sys.path.append(str(Path(os.getcwd()).parent))\n",
    "\n",
    "# Other modules (if needed)\n",
    "from src.color_code_stim.color_code import ColorCode\n",
    "\n",
    "# Pandas and plotting configurations\n",
    "pd.set_option('display.max_rows', 1000)\n",
    "idx = pd.IndexSlice\n",
    "\n",
    "jtplot.style(context='paper', theme='grade3', grid=False, ticks=True)\n",
    "DFT_FIG_WIDTH_WIDE = 11\n",
    "DFT_FIG_WIDTH = 5.3\n",
    "COLORS = plt.get_cmap('tab10')\n",
    "# Choose in ['Pastel1', 'Pastel2', 'Paired', 'Accent', 'Dark2', 'Set1', 'Set2', 'Set3', \n",
    "# 'tab10', 'tab20', 'tab20b', 'tab20c']\n",
    "\n",
    "# Utility functions\n",
    "def write_pickle(path, obj):\n",
    "    with open(path, 'wb') as f:\n",
    "        pickle.dump(obj, f)\n",
    "\n",
    "def read_pickle(path):\n",
    "    with open(path, 'rb') as f:\n",
    "        obj = pickle.load(f)\n",
    "    return obj"
   ]
  },
  {
   "cell_type": "code",
   "execution_count": 141,
   "metadata": {},
   "outputs": [],
   "source": [
    "def get_id(target):\n",
    "    return int(str(target)[1:])"
   ]
  },
  {
   "cell_type": "code",
   "execution_count": 12,
   "metadata": {},
   "outputs": [],
   "source": [
    "cc = ColorCode(\n",
    "    circuit_type=\"cult+growing\",\n",
    "    d=5,\n",
    "    d2=7,\n",
    "    rounds=1,\n",
    "    p_circuit=1e-3,\n",
    "    comparative_decoding=True,\n",
    "    perfect_init_final=True,\n",
    "    remove_non_edge_like_errors=True,\n",
    ")"
   ]
  },
  {
   "cell_type": "code",
   "execution_count": 17,
   "metadata": {},
   "outputs": [
    {
     "data": {
      "text/plain": [
       "(265, 149)"
      ]
     },
     "execution_count": 17,
     "metadata": {},
     "output_type": "execute_result"
    }
   ],
   "source": [
    "cc.Hs_decomposed['r'][1].shape"
   ]
  },
  {
   "cell_type": "code",
   "execution_count": 13,
   "metadata": {},
   "outputs": [
    {
     "ename": "AssertionError",
     "evalue": "Number of errors in second-round DEMs should be the same for all colors. Found [149, 170, 144].",
     "output_type": "error",
     "traceback": [
      "\u001b[0;31m---------------------------------------------------------------------------\u001b[0m",
      "\u001b[0;31mAssertionError\u001b[0m                            Traceback (most recent call last)",
      "Cell \u001b[0;32mIn[13], line 2\u001b[0m\n\u001b[1;32m      1\u001b[0m det, obs \u001b[38;5;241m=\u001b[39m cc\u001b[38;5;241m.\u001b[39msample(\u001b[38;5;241m1000\u001b[39m)\n\u001b[0;32m----> 2\u001b[0m preds, extra_outputs \u001b[38;5;241m=\u001b[39m \u001b[43mcc\u001b[49m\u001b[38;5;241;43m.\u001b[39;49m\u001b[43mdecode\u001b[49m\u001b[43m(\u001b[49m\u001b[43mdet\u001b[49m\u001b[43m,\u001b[49m\u001b[43m \u001b[49m\u001b[43mfull_output\u001b[49m\u001b[38;5;241;43m=\u001b[39;49m\u001b[38;5;28;43;01mTrue\u001b[39;49;00m\u001b[43m)\u001b[49m\n\u001b[1;32m      3\u001b[0m accepted \u001b[38;5;241m=\u001b[39m extra_outputs[\u001b[38;5;124m\"\u001b[39m\u001b[38;5;124maccepted\u001b[39m\u001b[38;5;124m\"\u001b[39m]\n\u001b[1;32m      4\u001b[0m obs \u001b[38;5;241m=\u001b[39m obs[accepted]\n",
      "File \u001b[0;32m~/Library/Mobile Documents/com~apple~CloudDocs/Work/Research/USYD/23-HiQuER/codes/color_code_stim/src/color_code_stim/color_code.py:2001\u001b[0m, in \u001b[0;36mColorCode.decode\u001b[0;34m(self, detector_outcomes, colors, logical_value, bp_predecoding, bp_prms, erasure_matcher_predecoding, partial_correction_by_predecoding, full_output, return_error_preds, verbose)\u001b[0m\n\u001b[1;32m   1995\u001b[0m \u001b[38;5;28;01mif\u001b[39;00m num_left_samples \u001b[38;5;241m>\u001b[39m \u001b[38;5;241m0\u001b[39m \u001b[38;5;129;01mand\u001b[39;00m \u001b[38;5;129;01mnot\u001b[39;00m (\n\u001b[1;32m   1996\u001b[0m     erasure_matcher_predecoding \u001b[38;5;129;01mand\u001b[39;00m partial_correction_by_predecoding\n\u001b[1;32m   1997\u001b[0m ):\n\u001b[1;32m   1998\u001b[0m     \u001b[38;5;66;03m# Number of errors should be the same for colors\u001b[39;00m\n\u001b[1;32m   1999\u001b[0m     num_errors_colors \u001b[38;5;241m=\u001b[39m [Hs[\u001b[38;5;241m1\u001b[39m]\u001b[38;5;241m.\u001b[39mshape[\u001b[38;5;241m1\u001b[39m] \u001b[38;5;28;01mfor\u001b[39;00m Hs \u001b[38;5;129;01min\u001b[39;00m \u001b[38;5;28mself\u001b[39m\u001b[38;5;241m.\u001b[39mHs_decomposed\u001b[38;5;241m.\u001b[39mvalues()]\n\u001b[1;32m   2000\u001b[0m     \u001b[38;5;28;01massert\u001b[39;00m (\n\u001b[0;32m-> 2001\u001b[0m         \u001b[38;5;28mlen\u001b[39m(\u001b[38;5;28mset\u001b[39m(num_errors_colors)) \u001b[38;5;241m==\u001b[39m \u001b[38;5;241m1\u001b[39m\n\u001b[1;32m   2002\u001b[0m     ), \u001b[38;5;124mf\u001b[39m\u001b[38;5;124m\"\u001b[39m\u001b[38;5;124mNumber of errors in second-round DEMs should be the same for all colors. Found \u001b[39m\u001b[38;5;132;01m{\u001b[39;00mnum_errors_colors\u001b[38;5;132;01m}\u001b[39;00m\u001b[38;5;124m.\u001b[39m\u001b[38;5;124m\"\u001b[39m\n\u001b[1;32m   2003\u001b[0m     num_errors \u001b[38;5;241m=\u001b[39m num_errors_colors[\u001b[38;5;241m0\u001b[39m]\n\u001b[1;32m   2005\u001b[0m     error_preds \u001b[38;5;241m=\u001b[39m np\u001b[38;5;241m.\u001b[39mempty(\n\u001b[1;32m   2006\u001b[0m         (num_logical_classes, \u001b[38;5;28mlen\u001b[39m(colors), num_left_samples, num_errors),\n\u001b[1;32m   2007\u001b[0m         dtype\u001b[38;5;241m=\u001b[39m\u001b[38;5;28mbool\u001b[39m,\n\u001b[1;32m   2008\u001b[0m     )\n",
      "\u001b[0;31mAssertionError\u001b[0m: Number of errors in second-round DEMs should be the same for all colors. Found [149, 170, 144]."
     ]
    }
   ],
   "source": [
    "det, obs = cc.sample(1000)\n",
    "preds, extra_outputs = cc.decode(det, full_output=True)\n",
    "accepted = extra_outputs[\"accepted\"]\n",
    "obs = obs[accepted]\n",
    "fails = obs ^ preds\n",
    "print(len(fails))\n",
    "fails.sum() / len(fails)"
   ]
  },
  {
   "cell_type": "code",
   "execution_count": 586,
   "metadata": {},
   "outputs": [],
   "source": [
    "# Create a dataframe to show failure rate for samples with logical gap < c\n",
    "import pandas as pd\n",
    "import numpy as np\n",
    "\n",
    "gaps = extra_outputs[\"logical_gaps\"]\n",
    "\n",
    "# Ensure gaps and fails have the same length\n",
    "assert len(gaps) == len(fails), \"Gaps and fails arrays must have the same length\"\n",
    "\n",
    "# Create threshold values from 0 to 30 with 0.1 intervals\n",
    "thresholds = np.arange(0, 30.1, 0.1)\n",
    "\n",
    "# Calculate failure rates for each threshold\n",
    "failure_rates = []\n",
    "abort_rates = []\n",
    "for c in thresholds:\n",
    "    # Get samples where logical gap < c\n",
    "    mask = gaps > c\n",
    "    if mask.sum() > 0:  # Avoid division by zero\n",
    "        failure_rate = fails[mask].sum() / mask.sum()\n",
    "    else:\n",
    "        failure_rate = np.nan\n",
    "    abort_rate = len(fails[mask]) / len(fails)\n",
    "    failure_rates.append(failure_rate)\n",
    "    abort_rates.append(abort_rate)\n",
    "# Create dataframe\n",
    "df_failure_rates = pd.DataFrame(\n",
    "    {\n",
    "        \"threshold_c\": thresholds,\n",
    "        \"failure_rate\": failure_rates,\n",
    "        \"abort_rate\": abort_rates,\n",
    "    }\n",
    ")"
   ]
  },
  {
   "cell_type": "code",
   "execution_count": null,
   "metadata": {},
   "outputs": [
    {
     "data": {
      "image/png": "[encoded data removed]",
      "text/plain": [
       "<Figure size 640x480 with 1 Axes>"
      ]
     },
     "metadata": {},
     "output_type": "display_data"
    }
   ],
   "source": [
    "import matplotlib.pyplot as plt\n",
    "import seaborn as sns\n",
    "\n",
    "sns.lineplot(df_failure_rates, x=\"threshold_c\", y=\"failure_rate\")\n",
    "plt.yscale(\"log\")"
   ]
  },
  {
   "cell_type": "code",
   "execution_count": 588,
   "metadata": {},
   "outputs": [
    {
     "data": {
      "text/plain": [
       "<Axes: xlabel='threshold_c', ylabel='abort_rate'>"
      ]
     },
     "execution_count": 588,
     "metadata": {},
     "output_type": "execute_result"
    },
    {
     "data": {
      "image/png": "[encoded data removed]",
      "text/plain": [
       "<Figure size 640x480 with 1 Axes>"
      ]
     },
     "metadata": {},
     "output_type": "display_data"
    }
   ],
   "source": [
    "sns.lineplot(df_failure_rates, x=\"threshold_c\", y=\"abort_rate\")"
   ]
  },
  {
   "cell_type": "code",
   "execution_count": 570,
   "metadata": {},
   "outputs": [],
   "source": [
    "reload(ccs)\n",
    "cc2 = ccs.ColorCode(\n",
    "    shape=\"growing\",\n",
    "    d=3,\n",
    "    d2=5,\n",
    "    rounds=5,\n",
    "    p_circuit=1e-3,\n",
    "    temp_bdry_type=\"y\",\n",
    "    comparative_decoding=False,\n",
    "    perfect_init_final=True,\n",
    ")"
   ]
  },
  {
   "cell_type": "code",
   "execution_count": 571,
   "metadata": {},
   "outputs": [
    {
     "data": {
      "text/plain": [
       "0.0101"
      ]
     },
     "execution_count": 571,
     "metadata": {},
     "output_type": "execute_result"
    }
   ],
   "source": [
    "det, obs = cc2.sample(100_000)\n",
    "preds, extra_outputs = cc2.decode(det, full_output=True)\n",
    "fails = obs ^ preds\n",
    "fails.sum() / len(fails)"
   ]
  }
 ],
 "metadata": {
  "kernelspec": {
   "display_name": "Python 3",
   "language": "python",
   "name": "python3"
  },
  "language_info": {
   "codemirror_mode": {
    "name": "ipython",
    "version": 3
   },
   "file_extension": ".py",
   "mimetype": "text/x-python",
   "name": "python",
   "nbconvert_exporter": "python",
   "pygments_lexer": "ipython3",
   "version": "3.11.3"
  }
 },
 "nbformat": 4,
 "nbformat_minor": 2
}
