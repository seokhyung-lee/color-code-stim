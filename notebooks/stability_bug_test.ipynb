{
 "cells": [
  {
   "cell_type": "code",
   "execution_count": 1,
   "id": "7c54f314",
   "metadata": {},
   "outputs": [],
   "source": [
    "from color_code_stim.color_code_legacy import ColorCode\n",
    "\n",
    "cc = ColorCode(\n",
    "    d=4,\n",
    "    d2=6,\n",
    "    rounds=4,\n",
    "    circuit_type=\"rec_stability\",\n",
    "    p_circuit=0.001\n",
    ") "
   ]
  }
 ],
 "metadata": {
  "kernelspec": {
   "display_name": ".venv",
   "language": "python",
   "name": "python3"
  },
  "language_info": {
   "codemirror_mode": {
    "name": "ipython",
    "version": 3
   },
   "file_extension": ".py",
   "mimetype": "text/x-python",
   "name": "python",
   "nbconvert_exporter": "python",
   "pygments_lexer": "ipython3",
   "version": "3.13.5"
  }
 },
 "nbformat": 4,
 "nbformat_minor": 5
}
