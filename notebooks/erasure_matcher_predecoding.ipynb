{
 "cells": [
  {
   "cell_type": "code",
   "execution_count": 1,
   "metadata": {},
   "outputs": [],
   "source": [
    "import sys\n",
    "import os\n",
    "import numpy as np\n",
    "from pathlib import Path\n",
    "\n",
    "# Add the parent directory to sys.path to access src\n",
    "sys.path.append(str(Path(os.getcwd()).parent))\n",
    "\n",
    "from src.color_code_stim import ColorCode\n",
    "%load_ext autoreload\n",
    "%autoreload 2"
   ]
  },
  {
   "cell_type": "code",
   "execution_count": 21,
   "metadata": {},
   "outputs": [
    {
     "name": "stdout",
     "output_type": "stream",
     "text": [
      "Original: \n",
      "1315\n",
      "Erasure matcher: \n",
      "1227\n",
      "Erasure matcher with partial correction: \n",
      "2143\n"
     ]
    }
   ],
   "source": [
    "cc = ColorCode(d=3, rounds=3, shape=\"tri\", p_circuit=1e-3, comparative_decoding=True)\n",
    "\n",
    "det, obs = cc.sample(100000)\n",
    "preds1, extra_outputs1 = cc.decode(\n",
    "    det, erasure_matcher_predecoding=False, full_output=True\n",
    ")\n",
    "nfails1 = np.sum(preds1 != obs)\n",
    "preds2, extra_outputs2 = cc.decode(\n",
    "    det, erasure_matcher_predecoding=True, full_output=True\n",
    ")\n",
    "nfails2 = np.sum(\n",
    "    preds2 != obs)\n",
    "preds3, extra_outputs3 = cc.decode(\n",
    "    det,\n",
    "    erasure_matcher_predecoding=True,\n",
    "    full_output=True,\n",
    "    partial_correction_by_predecoding=True,\n",
    ")\n",
    "nfails3 = np.sum(preds3 != obs)\n",
    "\n",
    "print('Original: ')\n",
    "print(nfails1)\n",
    "print('Erasure matcher: ')\n",
    "print(nfails2)\n",
    "print('Erasure matcher with partial correction: ')\n",
    "print(nfails3)"
   ]
  },
  {
   "cell_type": "code",
   "execution_count": 31,
   "metadata": {},
   "outputs": [
    {
     "data": {
      "text/plain": [
       "array([ True,  True,  True, ...,  True,  True,  True])"
      ]
     },
     "execution_count": 31,
     "metadata": {},
     "output_type": "execute_result"
    }
   ],
   "source": [
    "extra_outputs2[\"erasure_matcher_success\"]"
   ]
  }
 ],
 "metadata": {
  "kernelspec": {
   "display_name": "Python 3",
   "language": "python",
   "name": "python3"
  },
  "language_info": {
   "codemirror_mode": {
    "name": "ipython",
    "version": 3
   },
   "file_extension": ".py",
   "mimetype": "text/x-python",
   "name": "python",
   "nbconvert_exporter": "python",
   "pygments_lexer": "ipython3",
   "version": "3.11.3"
  }
 },
 "nbformat": 4,
 "nbformat_minor": 2
}
