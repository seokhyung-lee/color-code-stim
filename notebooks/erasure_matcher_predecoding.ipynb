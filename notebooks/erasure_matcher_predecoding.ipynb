{
 "cells": [
  {
   "cell_type": "code",
   "execution_count": 1,
   "metadata": {},
   "outputs": [],
   "source": [
    "%load_ext autoreload\n",
    "%autoreload 2\n",
    "\n",
    "import sys\n",
    "import os\n",
    "import numpy as np\n",
    "from pathlib import Path\n",
    "\n",
    "# Add the parent directory to sys.path to access src\n",
    "sys.path.append(str(Path(os.getcwd()).parent))\n",
    "\n",
    "from src.color_code_stim import ColorCode"
   ]
  },
  {
   "cell_type": "code",
   "execution_count": 28,
   "metadata": {},
   "outputs": [
    {
     "name": "stdout",
     "output_type": "stream",
     "text": [
      "First-round decoding:\n",
      "    > logical class 0, color r...\n",
      "    > logical class 0, color g...\n",
      "    > logical class 0, color b...\n",
      "    > logical class 1, color r...\n",
      "    > logical class 1, color g...\n",
      "    > logical class 1, color b...\n",
      "Erasure matcher predecoding:\n",
      "    > # of samples with successful predecoding: 7914\n",
      "Second-round decoding:\n",
      "    > logical class 0, color r...\n",
      "    > logical class 0, color g...\n",
      "    > logical class 0, color b...\n",
      "    > logical class 1, color r...\n",
      "    > logical class 1, color g...\n",
      "    > logical class 1, color b...\n",
      "Merging predecoding & second-round decoding outcomes\n",
      "\n",
      "# failures: 491\n"
     ]
    }
   ],
   "source": [
    "cc = ColorCode(d=3, rounds=3, shape=\"tri\", p_circuit=1e-3, comparative_decoding=True)\n",
    "det, obs = cc.sample(10000)\n",
    "preds = cc.decode(det, erasure_matcher_predecoding=True, verbose=True)\n",
    "print()\n",
    "print(\"# failures:\", preds.sum())"
   ]
  },
  {
   "cell_type": "code",
   "execution_count": 20,
   "metadata": {},
   "outputs": [
    {
     "name": "stdout",
     "output_type": "stream",
     "text": [
      "Original: \n",
      "5189\n",
      "Erasure matcher: \n",
      "5013\n"
     ]
    }
   ],
   "source": [
    "cc = ColorCode(d=3, rounds=3, shape=\"tri\", p_circuit=3e-3, comparative_decoding=True)\n",
    "\n",
    "det, obs = cc.sample(100_000)\n",
    "preds1, extra_outputs1 = cc.decode(\n",
    "    det, erasure_matcher_predecoding=False, full_output=True\n",
    ")\n",
    "nfails1 = np.sum(preds1 != obs)\n",
    "preds2, extra_outputs2 = cc.decode(\n",
    "    det, erasure_matcher_predecoding=True, full_output=True\n",
    ")\n",
    "nfails2 = np.sum(preds2 != obs)\n",
    "# preds3, extra_outputs3 = cc.decode(\n",
    "#     det,\n",
    "#     erasure_matcher_predecoding=True,\n",
    "#     full_output=True,\n",
    "#     partial_correction_by_predecoding=True,\n",
    "# )\n",
    "# nfails3 = np.sum(preds3 != obs)\n",
    "\n",
    "print(\"Original: \")\n",
    "print(nfails1)\n",
    "print(\"Erasure matcher: \")\n",
    "print(nfails2)\n",
    "# print('Erasure matcher with partial correction: ')\n",
    "# print(nfails3)"
   ]
  },
  {
   "cell_type": "code",
   "execution_count": 21,
   "metadata": {},
   "outputs": [
    {
     "name": "stdout",
     "output_type": "stream",
     "text": [
      "540\n",
      "507\n"
     ]
    }
   ],
   "source": [
    "N = round(1e6)\n",
    "cc = ColorCode(d=5, rounds=1, shape=\"tri\", p_bitflip=1e-2, comparative_decoding=True)\n",
    "preds1 = cc.simulate(N)\n",
    "preds2 = cc.simulate(N, erasure_matcher_predecoding=True)\n",
    "print(preds1)\n",
    "print(preds2)"
   ]
  }
 ],
 "metadata": {
  "kernelspec": {
   "display_name": "Python 3",
   "language": "python",
   "name": "python3"
  },
  "language_info": {
   "codemirror_mode": {
    "name": "ipython",
    "version": 3
   },
   "file_extension": ".py",
   "mimetype": "text/x-python",
   "name": "python",
   "nbconvert_exporter": "python",
   "pygments_lexer": "ipython3",
   "version": "3.11.3"
  }
 },
 "nbformat": 4,
 "nbformat_minor": 2
}
