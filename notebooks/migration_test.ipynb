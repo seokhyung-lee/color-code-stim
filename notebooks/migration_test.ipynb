{
 "cells": [
  {
   "cell_type": "code",
   "execution_count": 14,
   "id": "7c54f314",
   "metadata": {},
   "outputs": [
    {
     "data": {
      "text/plain": [
       "np.int64(93)"
      ]
     },
     "execution_count": 14,
     "metadata": {},
     "output_type": "execute_result"
    }
   ],
   "source": [
    "from color_code_stim.color_code import ColorCode\n",
    "\n",
    "cc = ColorCode(\n",
    "    d=3,\n",
    "    rounds=3,\n",
    "    circuit_type=\"tri\",\n",
    "    p_circuit=0.001\n",
    ") \n",
    "cc.simulate(10000, seed=42)"
   ]
  },
  {
   "cell_type": "code",
   "execution_count": 4,
   "id": "ca7dc2f3",
   "metadata": {},
   "outputs": [
    {
     "data": {
      "text/plain": [
       "(np.int64(93),\n",
       " {'best_colors': array([0, 0, 0, ..., 0, 0, 0], shape=(10000,)),\n",
       "  'weights': array([ 0.        ,  0.        ,  0.        , ..., 11.95804257,\n",
       "          0.        , 10.04445796], shape=(10000,)),\n",
       "  'error_preds': array([[False, False, False, ..., False, False, False],\n",
       "         [False, False, False, ..., False, False, False],\n",
       "         [False, False, False, ..., False, False, False],\n",
       "         ...,\n",
       "         [False, False, False, ..., False, False, False],\n",
       "         [False, False, False, ..., False, False, False],\n",
       "         [False, False, False, ..., False, False, False]], shape=(10000, 81)),\n",
       "  'stats': (0.009625358504208741, 0.0024929648023970363),\n",
       "  'fails': array([False, False, False, ...,  True, False, False], shape=(10000,))})"
      ]
     },
     "execution_count": 4,
     "metadata": {},
     "output_type": "execute_result"
    }
   ],
   "source": [
    "from color_code_stim.color_code import ColorCode\n",
    "\n",
    "cc = ColorCode(d=3, rounds=3, circuit_type=\"tri\", p_circuit=0.001)\n",
    "cc.simulate(10000, seed=42, full_output=True)"
   ]
  }
 ],
 "metadata": {
  "kernelspec": {
   "display_name": ".venv",
   "language": "python",
   "name": "python3"
  },
  "language_info": {
   "codemirror_mode": {
    "name": "ipython",
    "version": 3
   },
   "file_extension": ".py",
   "mimetype": "text/x-python",
   "name": "python",
   "nbconvert_exporter": "python",
   "pygments_lexer": "ipython3",
   "version": "3.13.5"
  }
 },
 "nbformat": 4,
 "nbformat_minor": 5
}
