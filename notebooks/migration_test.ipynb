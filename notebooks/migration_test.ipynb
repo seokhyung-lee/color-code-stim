{
 "cells": [
  {
   "cell_type": "code",
   "execution_count": 5,
   "id": "7c54f314",
   "metadata": {},
   "outputs": [
    {
     "data": {
      "text/plain": [
       "np.int64(93)"
      ]
     },
     "execution_count": 5,
     "metadata": {},
     "output_type": "execute_result"
    }
   ],
   "source": [
    "from color_code_stim.color_code import ColorCode\n",
    "\n",
    "cc = ColorCode(\n",
    "    d=3,\n",
    "    rounds=3,\n",
    "    circuit_type=\"tri\",\n",
    "    p_circuit=0.001\n",
    ") \n",
    "cc.simulate(10000, seed=42)"
   ]
  }
 ],
 "metadata": {
  "kernelspec": {
   "display_name": ".venv",
   "language": "python",
   "name": "python3"
  },
  "language_info": {
   "codemirror_mode": {
    "name": "ipython",
    "version": 3
   },
   "file_extension": ".py",
   "mimetype": "text/x-python",
   "name": "python",
   "nbconvert_exporter": "python",
   "pygments_lexer": "ipython3",
   "version": "3.13.5"
  }
 },
 "nbformat": 4,
 "nbformat_minor": 5
}
